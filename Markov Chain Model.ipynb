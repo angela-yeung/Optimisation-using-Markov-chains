{
 "cells": [
  {
   "cell_type": "markdown",
   "metadata": {},
   "source": [
    "# Optimisation using Markov Chains "
   ]
  },
  {
   "cell_type": "markdown",
   "metadata": {},
   "source": [
    "Markov chains are used to model a series of discrete stochastic events. In this notebook, I set out to find the answers to the below questions by applying a Markov chain model: <br>\n",
    "1) What is the probability my 18month toddler, Evie, going to bed an hour after having dinner? <br>\n",
    "2) What is the most optimal bedtime routine to achieve the above?"
   ]
  },
  {
   "cell_type": "code",
   "execution_count": 1,
   "metadata": {},
   "outputs": [],
   "source": [
    "import numpy as np"
   ]
  },
  {
   "cell_type": "code",
   "execution_count": 2,
   "metadata": {},
   "outputs": [],
   "source": [
    "# The statespace\n",
    "states = [\"Read\", \"Dinner\", \"Bath\", \"Play\", \"Sleep\"]\n",
    "\n",
    "# Possible sequence of events\n",
    "transitionName = [[\"RR\",\"RD\",\"RB\",\"RP\",\"RS\"],\n",
    "                 [\"DR\",\"DD\",\"DB\",\"DP\",\"DS\"],\n",
    "                 [\"BR\",\"BD\",\"BB\",\"BP\",\"BS\"],\n",
    "                 [\"PR\",\"PD\",\"PB\",\"PP\",\"PS\"],\n",
    "                 [\"SR\",\"SD\",\"SB\",\"SP\",\"SS\"]]\n",
    "\n",
    "\n",
    "# Probabilities matrix (transition matrix)\n",
    "transitionMatrix = [[0.2,0.1,0.1,0.3,0.3],\n",
    "                   [0.1,0.2,0.5,0.1,0.1],\n",
    "                   [0.3,0.1,0.1,0.2,0.3],\n",
    "                   [0.2,0.2,0.3,0.2,0.1],\n",
    "                   [0.1,0.0,0.0,0.1,0.8]]\n",
    "\n",
    "transitionMatrixArray = np.array(transitionMatrix)"
   ]
  },
  {
   "attachments": {
    "image.png": {
     "image/png": "[encoded data removed]"
    }
   },
   "cell_type": "markdown",
   "metadata": {},
   "source": [
    "The transition matrix can be interpreted as the probability of moving from the current state to the next state. For instance, there is a 30% probability that Evie will play after reading a book. \n",
    "\n",
    "![image.png](attachment:image.png)"
   ]
  },
  {
   "cell_type": "code",
   "execution_count": 3,
   "metadata": {},
   "outputs": [
    {
     "data": {
      "text/plain": [
       "'All probabilities sum to 1'"
      ]
     },
     "execution_count": 3,
     "metadata": {},
     "output_type": "execute_result"
    }
   ],
   "source": [
    "# Function to check if probabilities in each row sum to 1\n",
    "\n",
    "def check_transition_matrix(matrix):\n",
    "    \n",
    "    for i in range(len(matrix)):\n",
    "        \n",
    "        if round(sum(matrix[i]),2) != 1:\n",
    "            return f'Probabilities do not sum to 1 in row {i}. {sum(matrix[i])}'\n",
    "        \n",
    "        return f'All probabilities sum to 1'\n",
    "\n",
    "check_transition_matrix(transitionMatrixArray)"
   ]
  },
  {
   "cell_type": "code",
   "execution_count": 4,
   "metadata": {},
   "outputs": [],
   "source": [
    "# Function that implements the Markov model to forecast the state for a single iteration\n",
    "\n",
    "def activity_forecast(activityNow, increments):\n",
    "    \n",
    "    # Store the sequence of states taken\n",
    "    activityList = [activityNow]\n",
    "    \n",
    "    # Initiate counter to record the number of discrete steps in time eg. 15min blocks \n",
    "    i = 0\n",
    "    \n",
    "    # Calculate the probability of the activityList\n",
    "    prob = 1\n",
    "    \n",
    "    while i != increments:\n",
    "        if activityNow == \"Read\":\n",
    "\n",
    "            change = np.random.choice(transitionName[0], replace = True,p=transitionMatrixArray[0])\n",
    "            \n",
    "            if change == \"RR\":\n",
    "                prob = prob * transitionMatrixArray[0,0]\n",
    "                activityList.append(\"Read\") \n",
    "                            \n",
    "            elif change == \"RD\":\n",
    "                prob = prob * transitionMatrixArray[0,1]\n",
    "                activityList.append(\"Dinner\")\n",
    "                activityNow = \"Dinner\" # Update current state \n",
    "            \n",
    "            elif change == \"RB\":\n",
    "                prob = prob * transitionMatrixArray[0,2]\n",
    "                activityList.append(\"Bath\")\n",
    "                activityNow = \"Bath\"\n",
    "            \n",
    "            elif change == \"RP\":\n",
    "                prob = prob * transitionMatrixArray[0,3]\n",
    "                activityList.append(\"Play\")\n",
    "                activityNow = \"Play\"\n",
    "            \n",
    "            else:\n",
    "                prob = prob * transitionMatrixArray[0,4]\n",
    "                activityList.append(\"Sleep\")\n",
    "                activityNow = \"Sleep\"\n",
    "                \n",
    "        elif activityNow == \"Dinner\":\n",
    "            \n",
    "            change = np.random.choice(transitionName[1], replace = True,p=transitionMatrixArray[1])\n",
    "            \n",
    "            if change == \"DR\":\n",
    "                prob = prob * transitionMatrixArray[1,0]\n",
    "                activityList.append(\"Read\")\n",
    "                activityNow = \"Read\"\n",
    "            \n",
    "            elif change == \"DD\":\n",
    "                prob = prob * transitionMatrixArray[1,1]\n",
    "                activityList.append(\"Dinner\")\n",
    "                            \n",
    "            elif change == \"DB\":\n",
    "                prob = prob * transitionMatrixArray[1,2]\n",
    "                activityList.append(\"Bath\")\n",
    "                activityNow = \"Bath\"\n",
    "            \n",
    "            elif change == \"DP\":\n",
    "                prob = prob * transitionMatrixArray[1,3]\n",
    "                activityList.append(\"Play\")\n",
    "                activityNow = \"Play\"\n",
    "            \n",
    "            else:\n",
    "                prob = prob * transitionMatrixArray[1,4]\n",
    "                activityList.append(\"Sleep\")\n",
    "                activityNow = \"Sleep\"\n",
    "                \n",
    "        elif activityNow == \"Bath\":\n",
    "            \n",
    "            change = np.random.choice(transitionName[2], replace = True,p=transitionMatrixArray[2])\n",
    "            \n",
    "            if change == \"BR\":\n",
    "                prob = prob * transitionMatrixArray[2,0]\n",
    "                activityList.append(\"Read\")\n",
    "                activityNow = \"Read\"\n",
    "            \n",
    "            elif change == \"BD\":\n",
    "                prob = prob * transitionMatrixArray[2,1]\n",
    "                activityList.append(\"Dinner\")\n",
    "                activityNow = \"Dinner\"\n",
    "            \n",
    "            elif change == \"BB\":\n",
    "                prob = prob * transitionMatrixArray[2,2]\n",
    "                activityList.append(\"Bath\")\n",
    "                            \n",
    "            elif change == \"BP\":\n",
    "                prob = prob * transitionMatrixArray[2,3]\n",
    "                activityList.append(\"Play\")\n",
    "                activityNow = \"Play\"\n",
    "            \n",
    "            else:\n",
    "                prob = prob * transitionMatrixArray[2,4]\n",
    "                activityList.append(\"Sleep\")\n",
    "                activityNow = \"Sleep\"\n",
    "                \n",
    "        elif activityNow == \"Play\":\n",
    "            \n",
    "            change = np.random.choice(transitionName[3], replace = True,p=transitionMatrixArray[3])\n",
    "            \n",
    "            if change == \"PR\":\n",
    "                prob = prob * transitionMatrixArray[3,0]\n",
    "                activityList.append(\"Read\")\n",
    "                activityNow = \"Read\"\n",
    "            \n",
    "            elif change == \"PD\":\n",
    "                prob = prob * transitionMatrixArray[3,1]\n",
    "                activityList.append(\"Dinner\")\n",
    "                activityNow = \"Dinner\"\n",
    "            \n",
    "            elif change == \"PB\":\n",
    "                prob = prob * transitionMatrixArray[3,2]\n",
    "                activityList.append(\"Bath\")\n",
    "                activityNow = \"Bath\"\n",
    "            \n",
    "            elif change == \"PP\":\n",
    "                prob = prob * transitionMatrixArray[3,3]\n",
    "                activityList.append(\"Play\")\n",
    "                            \n",
    "            else:\n",
    "                prob = prob * transitionMatrixArray[3,4]\n",
    "                activityList.append(\"Sleep\")\n",
    "                activityNow = \"Sleep\"\n",
    "                \n",
    "        elif activityNow == \"Sleep\":\n",
    "            \n",
    "            change = np.random.choice(transitionName[4], replace = True,p=transitionMatrixArray[4])\n",
    "            \n",
    "            if change == \"SR\":\n",
    "                prob = prob * transitionMatrixArray[4,0]\n",
    "                activityList.append(\"Read\")\n",
    "                activityNow = \"Read\"\n",
    "            \n",
    "            elif change == \"SD\":\n",
    "                prob = prob * transitionMatrixArray[4,1]\n",
    "                activityList.append(\"Dinner\")\n",
    "                activityNow = \"Dinner\"\n",
    "            \n",
    "            elif change == \"SB\":\n",
    "                prob = prob * transitionMatrixArray[4,2]\n",
    "                activityList.append(\"Bath\")\n",
    "                activityNow = \"Bath\"\n",
    "            \n",
    "            elif change == \"SP\":\n",
    "                prob = prob * transitionMatrixArray[4,3]\n",
    "                activityList.append(\"Play\")\n",
    "                activityNow = \"Play\"\n",
    "            \n",
    "            else:\n",
    "                prob = prob * transitionMatrixArray[4,4]\n",
    "                activityList.append(\"Sleep\")\n",
    "                        \n",
    "        i += 1 \n",
    "    \n",
    "    ## Print the results \n",
    "    # print(f'Path taken: {activityList}')\n",
    "    # print(f'End state after {increments} 15 min blocks: {activityNow}')\n",
    "    # print(f'Probability of path:{prob}')\n",
    "    \n",
    "    return activityList, prob"
   ]
  },
  {
   "cell_type": "code",
   "execution_count": 5,
   "metadata": {},
   "outputs": [],
   "source": [
    "# Function to calculate probability of starting at a specified state and ending at a specified state \n",
    "\n",
    "def markov_prob(startState, endState, increments):\n",
    "    \n",
    "    # Save every activityList ie. every combination of possible activities in the next hour, given Evie is currently having dinner\n",
    "    list_activity = []\n",
    "\n",
    "    # Initiate counter to record number of routes to get from specified start state to specified end state\n",
    "    count = 0 \n",
    "    \n",
    "    # Initiate probability \n",
    "    max_prob = 0 \n",
    "\n",
    "    # Run function activity_forecast 10000 times\n",
    "    for i in range(1,10000):\n",
    "        list_activity.append(activity_forecast(startState,increments))\n",
    "    \n",
    "    # Iterate through the list to get a count of all activities ending in state: 'Sleep' and identify the optimal path\n",
    "    for i_list in list_activity:\n",
    "        if i_list[0][-1] == endState:\n",
    "            count += 1\n",
    "            if i_list[1] > max_prob:\n",
    "                max_prob = i_list[1]\n",
    "                bestRoutine = i_list[0]\n",
    "    \n",
    "    # Calculate the probability of starting at state: 'Dinner' and ending at state: 'Sleep'\n",
    "    percentage = (count/10000) * 100\n",
    "    \n",
    "    print(f'The probability of starting at state: \"{startState}\" and ending at state: \"{endState}\" is {percentage}%.')\n",
    "    print(f'{bestRoutine} is the routine with the highest probability {max_prob*100}% of achieving state:\"{endState}\" in {(increments*15)/60} hour(s).')"
   ]
  },
  {
   "cell_type": "code",
   "execution_count": 6,
   "metadata": {},
   "outputs": [
    {
     "name": "stdout",
     "output_type": "stream",
     "text": [
      "The probability of starting at state: \"Dinner\" and ending at state: \"Sleep\" is 44.080000000000005%.\n",
      "['Dinner', 'Bath', 'Sleep', 'Sleep', 'Sleep'] is the routine with the highest probability 9.6% of achieving state:\"Sleep\" in 1.0 hour(s).\n"
     ]
    }
   ],
   "source": [
    "# Call markov_prob function \n",
    "\n",
    "markov_prob(\"Dinner\",\"Sleep\",4)"
   ]
  },
  {
   "cell_type": "markdown",
   "metadata": {},
   "source": [
    "<b> Assumptions and Limitations of Markov Model </b> <br>\n",
    "Let's review some of the assumptions of the Markov Model in the context of this sleep routine optimisation problem to determine where this model will fall short. <br>\n",
    "<br>\n",
    "<b> Assumption 1: </b> The transition probabilities are constant over time. <br>\n",
    "This is not a bad assumption for this problem if we have dinner around the same time every night and given that we're only predicting an hour ahead. This assumption presumes Evie's probability of going to bed at say 7PM is the same as her probability of going to bed at 11PM. <br>\n",
    "<br>\n",
    "<b> Assumption 2: </b> The probabilities apply to all participants in the system. <br>\n",
    "This is not an issue for this problem as I am only modelling the events for a single toddler. This assumption needs to be reviewed if the Markov Model is to be applied to multiple participants - do they all have the same probabilities in the transition matrix? <br>\n",
    "<br>\n",
    "<b> Assumption 3:</b> The probability of transitioning to the next state is solely dependent on the current state. <br>\n",
    "This assumption presumes that if Evie had a bath 30 minutes ago, she is still as likely to have another bath. \n"
   ]
  },
  {
   "cell_type": "markdown",
   "metadata": {},
   "source": [
    "<b> Conclusion </b> <br>\n",
    "On any given night, my 18month toddler has about a 44% chance of being in bed an hour after dinner. The optimal sleep routine is a simple one: after having dinner and a bath, I should put Evie straight to bed. This routine has a 9.6% chance of success. That's not a very high probability. Wish me luck! <br>"
   ]
  }
 ],
 "metadata": {
  "kernelspec": {
   "display_name": "Python 3",
   "language": "python",
   "name": "python3"
  },
  "language_info": {
   "codemirror_mode": {
    "name": "ipython",
    "version": 3
   },
   "file_extension": ".py",
   "mimetype": "text/x-python",
   "name": "python",
   "nbconvert_exporter": "python",
   "pygments_lexer": "ipython3",
   "version": "3.7.4"
  }
 },
 "nbformat": 4,
 "nbformat_minor": 2
}
